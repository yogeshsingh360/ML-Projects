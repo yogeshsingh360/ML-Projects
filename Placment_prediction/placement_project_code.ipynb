{
 "cells": [
  {
   "cell_type": "code",
   "execution_count": 24,
   "id": "c553a14f-9e2b-482b-8799-06cb1d88ada0",
   "metadata": {},
   "outputs": [],
   "source": [
    "%matplotlib inline\n",
    "import pandas as pd\n",
    "import numpy as np\n",
    "import seaborn as sns\n",
    "import matplotlib.pyplot as plt\n",
    "from sklearn.preprocessing import OneHotEncoder,StandardScaler\n",
    "from sklearn.compose import ColumnTransformer\n",
    "from sklearn.model_selection import train_test_split\n",
    "\n",
    "\n",
    "plc_data=pd.read_csv(\"Modified.csv\")\n",
    "# spliting data into x and y\n",
    "x=plc_data.drop(\"Placement (CTC)\",axis=1)\n",
    "y=plc_data[\"Placement (CTC)\"]\n",
    "x.columns=x.columns.str.strip()\n",
    "X=pd.DataFrame(x)\n",
    "# converting x data into numrical\n",
    "encoder=OneHotEncoder()\n",
    "trans=ColumnTransformer([(\"OneHot\",encoder,[\"Branch\"])],remainder='passthrough')\n",
    "trans_data=trans.fit_transform(X)\n",
    "# spliting data into train and test\n",
    "x_train,x_test,y_train,y_test=train_test_split(pd.DataFrame(trans_data),y,test_size=0.2,random_state=42)\n",
    "\n",
    "from sklearn.preprocessing import StandardScaler\n",
    "scaler=StandardScaler()\n",
    "x_train=scaler.fit_transform(x_train)\n",
    "x_test=scaler.transform(x_test)\n"
   ]
  },
  {
   "cell_type": "code",
   "execution_count": 25,
   "id": "4b41d0f2",
   "metadata": {},
   "outputs": [
    {
     "data": {
      "text/plain": [
       "array([ 9.7825 , 15.6717 , 14.2669 , ..., 18.8738 , 19.27305, 14.5728 ],\n",
       "      shape=(2000,))"
      ]
     },
     "execution_count": 25,
     "metadata": {},
     "output_type": "execute_result"
    }
   ],
   "source": [
    "# model selection\n",
    "from sklearn.ensemble import RandomForestRegressor\n",
    "model=RandomForestRegressor()\n",
    "model.fit(x_train,y_train)\n",
    "y_preds=model.predict(x_test)\n",
    "y_preds\n"
   ]
  },
  {
   "cell_type": "code",
   "execution_count": null,
   "id": "5cea4aa9",
   "metadata": {},
   "outputs": [],
   "source": []
  },
  {
   "cell_type": "code",
   "execution_count": 26,
   "id": "24d65312",
   "metadata": {},
   "outputs": [
    {
     "data": {
      "text/plain": [
       "0.9814350302678267"
      ]
     },
     "execution_count": 26,
     "metadata": {},
     "output_type": "execute_result"
    }
   ],
   "source": [
    "# R2_socer checking\n",
    "from sklearn.metrics import r2_score\n",
    "score=r2_score(y_test,y_preds)\n",
    "score\n",
    "\n"
   ]
  },
  {
   "cell_type": "code",
   "execution_count": 27,
   "id": "3ce84e65-dbcb-45d4-886a-1248a1de99a6",
   "metadata": {},
   "outputs": [],
   "source": [
    "import pickle \n",
    "pickle.dump(model, open(\"placement_prediction.pkl\", 'wb'))"
   ]
  },
  {
   "cell_type": "code",
   "execution_count": 28,
   "id": "68e65c98",
   "metadata": {},
   "outputs": [
    {
     "data": {
      "text/plain": [
       "array([16.9404])"
      ]
     },
     "execution_count": 28,
     "metadata": {},
     "output_type": "execute_result"
    }
   ],
   "source": [
    "loaded_model = pickle.load(open(\"placement_prediction.pkl\", 'rb'))\n",
    "input=pd.DataFrame({\"CGPA\":[9],\"Internships\":[1],\"Projects\":[1],\"Workshops/Certifications\":[2],\"AptitudeTestScore\":[50],\"SoftSkillsRating\":[2],\"ExtracurricularActivities\":[1],\"Branch\":[\"CSE\"],\n",
    "       \"LeetCode (No. Of Solved Problems)\":[1000],\"codeforces (rating)\":[1000]})\n",
    "input_onehot=pd.DataFrame(trans.transform(input))\n",
    "output=loaded_model.predict(pd.DataFrame(scaler.transform(input_onehot)))\n",
    "output\n"
   ]
  },
  {
   "cell_type": "code",
   "execution_count": 29,
   "id": "d41d5136",
   "metadata": {},
   "outputs": [
    {
     "name": "stdout",
     "output_type": "stream",
     "text": [
      "Note: you may need to restart the kernel to use updated packages.\n"
     ]
    }
   ],
   "source": [
    "pip freeze > requirements.txt"
   ]
  }
 ],
 "metadata": {
  "kernelspec": {
   "display_name": "Python 3",
   "language": "python",
   "name": "python3"
  },
  "language_info": {
   "codemirror_mode": {
    "name": "ipython",
    "version": 3
   },
   "file_extension": ".py",
   "mimetype": "text/x-python",
   "name": "python",
   "nbconvert_exporter": "python",
   "pygments_lexer": "ipython3",
   "version": "3.12.1"
  }
 },
 "nbformat": 4,
 "nbformat_minor": 5
}
